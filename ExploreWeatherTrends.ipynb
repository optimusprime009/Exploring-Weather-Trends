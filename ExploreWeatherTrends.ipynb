{
  "nbformat": 4,
  "nbformat_minor": 0,
  "metadata": {
    "kernelspec": {
      "display_name": "Python 3",
      "language": "python",
      "name": "python3"
    },
    "language_info": {
      "codemirror_mode": {
        "name": "ipython",
        "version": 3
      },
      "file_extension": ".py",
      "mimetype": "text/x-python",
      "name": "python",
      "nbconvert_exporter": "python",
      "pygments_lexer": "ipython3",
      "version": "3.6.5"
    },
    "colab": {
      "name": "ExploreWeatherTrends.ipynb",
      "provenance": []
    }
  },
  "cells": [
    {
      "cell_type": "markdown",
      "metadata": {
        "id": "U7LWQSZFp9Ql",
        "colab_type": "text"
      },
      "source": [
        "## UDACITY Data Analysis Nanodegree Program - Project 1 (Exploring Weather Trends);\n",
        "this is the second step of the project which is about reading the data and visualize it properly by using 'Moving Average';"
      ]
    },
    {
      "cell_type": "markdown",
      "metadata": {
        "id": "9WDInbw2p9Qn",
        "colab_type": "text"
      },
      "source": [
        "## Importing neccessary libraries for the project : "
      ]
    },
    {
      "cell_type": "code",
      "metadata": {
        "id": "6cQUtD06p9Qo",
        "colab_type": "code",
        "colab": {}
      },
      "source": [
        "import pandas as pd # for dealing with data!\n",
        "import matplotlib.pyplot as plt # for visualizing the data!\n",
        "import numpy as np# for calculating the moving average!"
      ],
      "execution_count": 0,
      "outputs": []
    },
    {
      "cell_type": "markdown",
      "metadata": {
        "id": "Lh4kHLsEp9Qv",
        "colab_type": "text"
      },
      "source": [
        "## Importing the data!"
      ]
    },
    {
      "cell_type": "code",
      "metadata": {
        "id": "ZgrQuaKGp9Qv",
        "colab_type": "code",
        "colab": {}
      },
      "source": [
        "url='https://raw.githubusercontent.com/optimusprime009/Exploring-Weather-Trends/master/lucknow.csv'\n",
        "lucknow = pd.read_csv(url) # importing 'global tempreature data'\n",
        "url1='https://raw.githubusercontent.com/optimusprime009/Exploring-Weather-Trends/master/global_data%20.csv'\n",
        "globaltemp = pd.read_csv(url1)# importing 'city tempreature data' which is a data for one city over multiple year."
      ],
      "execution_count": 0,
      "outputs": []
    },
    {
      "cell_type": "markdown",
      "metadata": {
        "id": "gqZpLc5hp9Q0",
        "colab_type": "text"
      },
      "source": [
        "## Doing 'Moving Average' for the Global data and Local data.\n",
        "Moving averages are used to smooth out data and to make it easier to observe long term trends and not get lost in daily fluctuations."
      ]
    },
    {
      "cell_type": "code",
      "metadata": {
        "id": "DtU9Puvwp9Q1",
        "colab_type": "code",
        "colab": {}
      },
      "source": [
        "glb_mv_avg = globaltemp['avg_temp'].rolling(10).mean()\n",
        "local_mv_avg = lucknow['avg_temp'].rolling(10).mean()"
      ],
      "execution_count": 0,
      "outputs": []
    },
    {
      "cell_type": "markdown",
      "metadata": {
        "id": "7pW80vPQp9Q6",
        "colab_type": "text"
      },
      "source": [
        "## Visualizng Data using matplotlib Library.\n",
        "for the Global and Local Temperature data"
      ]
    },
    {
      "cell_type": "code",
      "metadata": {
        "scrolled": false,
        "id": "Hzj3udeyp9Q7",
        "colab_type": "code",
        "colab": {
          "base_uri": "https://localhost:8080/",
          "height": 295
        },
        "outputId": "3302b869-bb58-4860-9318-b52cf0d264cc"
      },
      "source": [
        "#Local Data is as same as lucknow\n",
        "plt.plot(globaltemp['year'],glb_mv_avg,label='Global')\n",
        "plt.plot(lucknow['year'],local_mv_avg,label='Lucknow')\n",
        "plt.legend()\n",
        "plt.xlabel(\"Years\")\n",
        "plt.ylabel(\"Temperature (°C)\") \n",
        "plt.title(\"Lucknow City Average Temperature\")\n",
        "plt.show()"
      ],
      "execution_count": 21,
      "outputs": [
        {
          "output_type": "display_data",
          "data": {
            "image/png": "[encoded data removed]",
            "text/plain": [
              "<Figure size 432x288 with 1 Axes>"
            ]
          },
          "metadata": {
            "tags": [],
            "needs_background": "light"
          }
        }
      ]
    },
    {
      "cell_type": "markdown",
      "metadata": {
        "id": "gGw_P-kiqW9J",
        "colab_type": "text"
      },
      "source": [
        "# New Section"
      ]
    },
    {
      "cell_type": "code",
      "metadata": {
        "id": "TXxT7IHdp9Q_",
        "colab_type": "code",
        "colab": {}
      },
      "source": [
        ""
      ],
      "execution_count": 0,
      "outputs": []
    }
  ]
}
